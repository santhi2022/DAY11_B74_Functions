{
 "cells": [
  {
   "cell_type": "code",
   "execution_count": 1,
   "id": "107853d9",
   "metadata": {},
   "outputs": [
    {
     "name": "stdout",
     "output_type": "stream",
     "text": [
      "Santhi\n"
     ]
    }
   ],
   "source": [
    "print(\"Santhi\")"
   ]
  },
  {
   "cell_type": "code",
   "execution_count": 2,
   "id": "0f6eab06",
   "metadata": {},
   "outputs": [
    {
     "name": "stdout",
     "output_type": "stream",
     "text": [
      "Santhi\n"
     ]
    }
   ],
   "source": [
    "print(\"Santhi\".title())"
   ]
  },
  {
   "cell_type": "code",
   "execution_count": 3,
   "id": "9ef3e30d",
   "metadata": {},
   "outputs": [
    {
     "name": "stdout",
     "output_type": "stream",
     "text": [
      "SANTHI\n"
     ]
    }
   ],
   "source": [
    "print(\"Santhi\".upper())"
   ]
  },
  {
   "cell_type": "code",
   "execution_count": 4,
   "id": "680a4ddc",
   "metadata": {},
   "outputs": [
    {
     "name": "stdout",
     "output_type": "stream",
     "text": [
      "santhi\n"
     ]
    }
   ],
   "source": [
    "print(\"Santhi\".lower())"
   ]
  },
  {
   "cell_type": "code",
   "execution_count": 6,
   "id": "650a7849",
   "metadata": {},
   "outputs": [
    {
     "name": "stdout",
     "output_type": "stream",
     "text": [
      "[1, 2, 3, 4, 6.6, 7, 2, 5, 6, 9, 8]\n"
     ]
    }
   ],
   "source": [
    "s=[1,2,3,4,6.6,7,2,5,6,9,8]\n",
    "print(s)"
   ]
  },
  {
   "cell_type": "code",
   "execution_count": 7,
   "id": "7db7be94",
   "metadata": {},
   "outputs": [
    {
     "name": "stdout",
     "output_type": "stream",
     "text": [
      "[1, 2, 2, 3, 4, 5, 6, 6.6, 7, 8, 9]\n"
     ]
    }
   ],
   "source": [
    "s.sort()\n",
    "print(s)"
   ]
  },
  {
   "cell_type": "code",
   "execution_count": 9,
   "id": "687c5b7d",
   "metadata": {},
   "outputs": [
    {
     "name": "stdout",
     "output_type": "stream",
     "text": [
      "[1, 2, 2, 3, 4, 5, 6, 6.6, 7, 8, 9]\n"
     ]
    }
   ],
   "source": [
    "s[0]\n",
    "print(s)"
   ]
  },
  {
   "cell_type": "code",
   "execution_count": 10,
   "id": "b868a470",
   "metadata": {},
   "outputs": [
    {
     "name": "stdout",
     "output_type": "stream",
     "text": [
      " my animal name is vikky\n",
      " my pet is dog\n"
     ]
    }
   ],
   "source": [
    "def pet_details(pet_name,animal_type):\n",
    "    print(f\" my animal name is {pet_name}\")\n",
    "    print(f\" my pet is {animal_type}\")\n",
    "pet_details('vikky','dog')"
   ]
  },
  {
   "cell_type": "code",
   "execution_count": 11,
   "id": "da9f812d",
   "metadata": {},
   "outputs": [
    {
     "name": "stdout",
     "output_type": "stream",
     "text": [
      " my animal name is vikky\n",
      " my pet is dog\n"
     ]
    }
   ],
   "source": [
    "def pet_details(pet_name,animal_type='dog'):\n",
    "    print(f\" my animal name is {pet_name}\")\n",
    "    print(f\" my pet is {animal_type}\")\n",
    "pet_details('vikky')"
   ]
  },
  {
   "cell_type": "code",
   "execution_count": 12,
   "id": "7fc93819",
   "metadata": {},
   "outputs": [
    {
     "name": "stdout",
     "output_type": "stream",
     "text": [
      " my animal name is vikky\n",
      " my pet is cat\n"
     ]
    }
   ],
   "source": [
    "pet_details('vikky','cat')"
   ]
  },
  {
   "cell_type": "code",
   "execution_count": 14,
   "id": "ffdb3ee7",
   "metadata": {},
   "outputs": [
    {
     "ename": "SyntaxError",
     "evalue": "f-string: expecting '}' (1590888620.py, line 2)",
     "output_type": "error",
     "traceback": [
      "\u001b[1;36m  Input \u001b[1;32mIn [14]\u001b[1;36m\u001b[0m\n\u001b[1;33m    print(f\" my animal name is {pet_name=bujji}\")\u001b[0m\n\u001b[1;37m                                                ^\u001b[0m\n\u001b[1;31mSyntaxError\u001b[0m\u001b[1;31m:\u001b[0m f-string: expecting '}'\n"
     ]
    }
   ],
   "source": [
    "def pet_details(pet_name,animal_type):\n",
    "    print(f\" my animal name is {pet_name=bujji}\")\n",
    "    print(f\" my pet is {animal_type}\")\n",
    "pet_details('vikky')"
   ]
  },
  {
   "cell_type": "code",
   "execution_count": 16,
   "id": "f1804840",
   "metadata": {},
   "outputs": [
    {
     "ename": "TypeError",
     "evalue": "pet_details() missing 1 required positional argument: 'animal_type'",
     "output_type": "error",
     "traceback": [
      "\u001b[1;31m---------------------------------------------------------------------------\u001b[0m",
      "\u001b[1;31mTypeError\u001b[0m                                 Traceback (most recent call last)",
      "Input \u001b[1;32mIn [16]\u001b[0m, in \u001b[0;36m<cell line: 4>\u001b[1;34m()\u001b[0m\n\u001b[0;32m      2\u001b[0m     \u001b[38;5;28mprint\u001b[39m(\u001b[38;5;124mf\u001b[39m\u001b[38;5;124m\"\u001b[39m\u001b[38;5;124m my animal name is \u001b[39m\u001b[38;5;132;01m{\u001b[39;00mpet_name\u001b[38;5;132;01m}\u001b[39;00m\u001b[38;5;124m\"\u001b[39m)\n\u001b[0;32m      3\u001b[0m     \u001b[38;5;28mprint\u001b[39m(\u001b[38;5;124mf\u001b[39m\u001b[38;5;124m\"\u001b[39m\u001b[38;5;124m my pet is \u001b[39m\u001b[38;5;132;01m{\u001b[39;00manimal_type\u001b[38;5;132;01m}\u001b[39;00m\u001b[38;5;124m\"\u001b[39m)\n\u001b[1;32m----> 4\u001b[0m \u001b[43mpet_details\u001b[49m\u001b[43m(\u001b[49m\u001b[38;5;124;43m'\u001b[39;49m\u001b[38;5;124;43mvikky\u001b[39;49m\u001b[38;5;124;43m'\u001b[39;49m\u001b[43m)\u001b[49m\n",
      "\u001b[1;31mTypeError\u001b[0m: pet_details() missing 1 required positional argument: 'animal_type'"
     ]
    }
   ],
   "source": [
    "def pet_details(pet_name,animal_type):\n",
    "    print(f\" my animal name is {pet_name}\")\n",
    "    print(f\" my pet is {animal_type}\")\n",
    "pet_details('vikky','dog')"
   ]
  },
  {
   "cell_type": "code",
   "execution_count": 17,
   "id": "cfabcc28",
   "metadata": {},
   "outputs": [
    {
     "ename": "SyntaxError",
     "evalue": "invalid syntax (2060364913.py, line 1)",
     "output_type": "error",
     "traceback": [
      "\u001b[1;36m  Input \u001b[1;32mIn [17]\u001b[1;36m\u001b[0m\n\u001b[1;33m    ef pet_details(pet_name,animal_type):\u001b[0m\n\u001b[1;37m       ^\u001b[0m\n\u001b[1;31mSyntaxError\u001b[0m\u001b[1;31m:\u001b[0m invalid syntax\n"
     ]
    }
   ],
   "source": [
    "def pet_details(pet_name,animal_type):\n",
    "    print(f\" my animal name is {pet_name}\")\n",
    "    print(f\" my pet is {animal_type}\")\n",
    "pet_details('vikky','dog')"
   ]
  },
  {
   "cell_type": "code",
   "execution_count": 18,
   "id": "5aefa4b3",
   "metadata": {},
   "outputs": [
    {
     "name": "stdout",
     "output_type": "stream",
     "text": [
      " my animal name is vikky\n",
      " my pet is dog\n"
     ]
    }
   ],
   "source": [
    "def pet_details(pet_name,animal_type):\n",
    "    print(f\" my animal name is {pet_name}\")\n",
    "    print(f\" my pet is {animal_type}\")\n",
    "pet_details('vikky','dog')"
   ]
  },
  {
   "cell_type": "code",
   "execution_count": null,
   "id": "4d4845f4",
   "metadata": {},
   "outputs": [],
   "source": []
  }
 ],
 "metadata": {
  "kernelspec": {
   "display_name": "Python 3 (ipykernel)",
   "language": "python",
   "name": "python3"
  },
  "language_info": {
   "codemirror_mode": {
    "name": "ipython",
    "version": 3
   },
   "file_extension": ".py",
   "mimetype": "text/x-python",
   "name": "python",
   "nbconvert_exporter": "python",
   "pygments_lexer": "ipython3",
   "version": "3.9.12"
  }
 },
 "nbformat": 4,
 "nbformat_minor": 5
}
